{
 "cells": [
  {
   "cell_type": "code",
   "execution_count": 1,
   "id": "adfb9524-03f5-4766-98e2-4413ce037be3",
   "metadata": {},
   "outputs": [],
   "source": [
    "import numpy as np # para processamento de algébrico\n",
    "import pandas as pd # para processamento de dados, DataFrame, arquivos csv, I/O\n",
    "import matplotlib.pyplot as plt\n",
    "import seaborn as sns\n",
    "%matplotlib inline\n",
    "plt.style.use('seaborn')"
   ]
  },
  {
   "cell_type": "markdown",
   "id": "d132d356-9db2-427d-84f3-9f8900d85644",
   "metadata": {},
   "source": [
    "# Data preparation\n",
    "\n",
    "Preparando os dados"
   ]
  },
  {
   "cell_type": "code",
   "execution_count": 2,
   "id": "5c1307b5-d674-4369-bf7c-bd59df108a46",
   "metadata": {},
   "outputs": [
    {
     "data": {
      "text/html": [
       "<div>\n",
       "<style scoped>\n",
       "    .dataframe tbody tr th:only-of-type {\n",
       "        vertical-align: middle;\n",
       "    }\n",
       "\n",
       "    .dataframe tbody tr th {\n",
       "        vertical-align: top;\n",
       "    }\n",
       "\n",
       "    .dataframe thead th {\n",
       "        text-align: right;\n",
       "    }\n",
       "</style>\n",
       "<table border=\"1\" class=\"dataframe\">\n",
       "  <thead>\n",
       "    <tr style=\"text-align: right;\">\n",
       "      <th></th>\n",
       "      <th>Zip Code</th>\n",
       "      <th>Building type (service class</th>\n",
       "      <th>Consumption (therms)</th>\n",
       "      <th>Consumption (GJ)</th>\n",
       "      <th>Utility/Data Source</th>\n",
       "    </tr>\n",
       "  </thead>\n",
       "  <tbody>\n",
       "    <tr>\n",
       "      <th>0</th>\n",
       "      <td>10300\\n</td>\n",
       "      <td>Commercial</td>\n",
       "      <td>470.0</td>\n",
       "      <td>50.0</td>\n",
       "      <td>National Grid</td>\n",
       "    </tr>\n",
       "    <tr>\n",
       "      <th>1</th>\n",
       "      <td>10335\\n</td>\n",
       "      <td>Commercial</td>\n",
       "      <td>647.0</td>\n",
       "      <td>68.0</td>\n",
       "      <td>National Grid</td>\n",
       "    </tr>\n",
       "    <tr>\n",
       "      <th>2</th>\n",
       "      <td>10360\\n</td>\n",
       "      <td>Large residential</td>\n",
       "      <td>33762.0</td>\n",
       "      <td>3562.0</td>\n",
       "      <td>National Grid</td>\n",
       "    </tr>\n",
       "    <tr>\n",
       "      <th>3</th>\n",
       "      <td>11200\\n</td>\n",
       "      <td>Commercial</td>\n",
       "      <td>32125.0</td>\n",
       "      <td>3389.0</td>\n",
       "      <td>National Grid</td>\n",
       "    </tr>\n",
       "    <tr>\n",
       "      <th>4</th>\n",
       "      <td>11200\\n</td>\n",
       "      <td>Institutional</td>\n",
       "      <td>3605.0</td>\n",
       "      <td>380.0</td>\n",
       "      <td>National Grid</td>\n",
       "    </tr>\n",
       "  </tbody>\n",
       "</table>\n",
       "</div>"
      ],
      "text/plain": [
       "  Zip Code Building type (service class   Consumption (therms)   \\\n",
       "0  10300\\n                   Commercial                   470.0   \n",
       "1  10335\\n                   Commercial                   647.0   \n",
       "2  10360\\n            Large residential                 33762.0   \n",
       "3  11200\\n                   Commercial                 32125.0   \n",
       "4  11200\\n                Institutional                  3605.0   \n",
       "\n",
       "    Consumption (GJ)  Utility/Data Source  \n",
       "0                50.0       National Grid  \n",
       "1                68.0       National Grid  \n",
       "2              3562.0       National Grid  \n",
       "3              3389.0       National Grid  \n",
       "4               380.0       National Grid  "
      ]
     },
     "execution_count": 2,
     "metadata": {},
     "output_type": "execute_result"
    }
   ],
   "source": [
    "df = pd.read_csv('Desktop/natural-gas-consumption-by-zip-code-2010.csv')\n",
    "df.head()"
   ]
  },
  {
   "cell_type": "code",
   "execution_count": 6,
   "id": "86374cd5-3d21-43f8-bab5-5fc9e09e3b10",
   "metadata": {},
   "outputs": [
    {
     "data": {
      "text/html": [
       "<div>\n",
       "<style scoped>\n",
       "    .dataframe tbody tr th:only-of-type {\n",
       "        vertical-align: middle;\n",
       "    }\n",
       "\n",
       "    .dataframe tbody tr th {\n",
       "        vertical-align: top;\n",
       "    }\n",
       "\n",
       "    .dataframe thead th {\n",
       "        text-align: right;\n",
       "    }\n",
       "</style>\n",
       "<table border=\"1\" class=\"dataframe\">\n",
       "  <thead>\n",
       "    <tr style=\"text-align: right;\">\n",
       "      <th></th>\n",
       "      <th>Zip Code</th>\n",
       "      <th>Building type (service class</th>\n",
       "      <th>Consumption (therms)</th>\n",
       "      <th>Consumption (GJ)</th>\n",
       "      <th>Utility/Data Source</th>\n",
       "    </tr>\n",
       "  </thead>\n",
       "  <tbody>\n",
       "    <tr>\n",
       "      <th>0</th>\n",
       "      <td>10300\\n</td>\n",
       "      <td>Commercial</td>\n",
       "      <td>470.0</td>\n",
       "      <td>50.0</td>\n",
       "      <td>National Grid</td>\n",
       "    </tr>\n",
       "    <tr>\n",
       "      <th>1</th>\n",
       "      <td>10335\\n</td>\n",
       "      <td>Commercial</td>\n",
       "      <td>647.0</td>\n",
       "      <td>68.0</td>\n",
       "      <td>National Grid</td>\n",
       "    </tr>\n",
       "    <tr>\n",
       "      <th>2</th>\n",
       "      <td>10360\\n</td>\n",
       "      <td>Large residential</td>\n",
       "      <td>33762.0</td>\n",
       "      <td>3562.0</td>\n",
       "      <td>National Grid</td>\n",
       "    </tr>\n",
       "    <tr>\n",
       "      <th>3</th>\n",
       "      <td>11200\\n</td>\n",
       "      <td>Commercial</td>\n",
       "      <td>32125.0</td>\n",
       "      <td>3389.0</td>\n",
       "      <td>National Grid</td>\n",
       "    </tr>\n",
       "    <tr>\n",
       "      <th>4</th>\n",
       "      <td>11200\\n</td>\n",
       "      <td>Institutional</td>\n",
       "      <td>3605.0</td>\n",
       "      <td>380.0</td>\n",
       "      <td>National Grid</td>\n",
       "    </tr>\n",
       "    <tr>\n",
       "      <th>...</th>\n",
       "      <td>...</td>\n",
       "      <td>...</td>\n",
       "      <td>...</td>\n",
       "      <td>...</td>\n",
       "      <td>...</td>\n",
       "    </tr>\n",
       "    <tr>\n",
       "      <th>1010</th>\n",
       "      <td>11367\\n(40.730323085042414, -73.82610630716033)</td>\n",
       "      <td>Residential</td>\n",
       "      <td>2905831.0</td>\n",
       "      <td>306581.0</td>\n",
       "      <td>ConEd</td>\n",
       "    </tr>\n",
       "    <tr>\n",
       "      <th>1011</th>\n",
       "      <td>10457\\n(40.84579837129786, -73.89832418681175)</td>\n",
       "      <td>Residential</td>\n",
       "      <td>1697773.0</td>\n",
       "      <td>179125.0</td>\n",
       "      <td>ConEd</td>\n",
       "    </tr>\n",
       "    <tr>\n",
       "      <th>1012</th>\n",
       "      <td>10461\\n(40.846960590359004, -73.840632836736)</td>\n",
       "      <td>Large Residential</td>\n",
       "      <td>9651221.0</td>\n",
       "      <td>1018258.0</td>\n",
       "      <td>ConEd</td>\n",
       "    </tr>\n",
       "    <tr>\n",
       "      <th>1013</th>\n",
       "      <td>11420\\n(40.67334524268887, -73.81770717164864)</td>\n",
       "      <td>Commercial</td>\n",
       "      <td>8380985.0</td>\n",
       "      <td>884241.0</td>\n",
       "      <td>National Grid</td>\n",
       "    </tr>\n",
       "    <tr>\n",
       "      <th>1014</th>\n",
       "      <td>10065\\n(40.76430121303059, -73.96303993544461)</td>\n",
       "      <td>Commercial</td>\n",
       "      <td>13811460.0</td>\n",
       "      <td>1457186.0</td>\n",
       "      <td>ConEd</td>\n",
       "    </tr>\n",
       "  </tbody>\n",
       "</table>\n",
       "<p>1015 rows × 5 columns</p>\n",
       "</div>"
      ],
      "text/plain": [
       "                                             Zip Code  \\\n",
       "0                                             10300\\n   \n",
       "1                                             10335\\n   \n",
       "2                                             10360\\n   \n",
       "3                                             11200\\n   \n",
       "4                                             11200\\n   \n",
       "...                                               ...   \n",
       "1010  11367\\n(40.730323085042414, -73.82610630716033)   \n",
       "1011   10457\\n(40.84579837129786, -73.89832418681175)   \n",
       "1012    10461\\n(40.846960590359004, -73.840632836736)   \n",
       "1013   11420\\n(40.67334524268887, -73.81770717164864)   \n",
       "1014   10065\\n(40.76430121303059, -73.96303993544461)   \n",
       "\n",
       "     Building type (service class   Consumption (therms)    Consumption (GJ)   \\\n",
       "0                      Commercial                   470.0                50.0   \n",
       "1                      Commercial                   647.0                68.0   \n",
       "2               Large residential                 33762.0              3562.0   \n",
       "3                      Commercial                 32125.0              3389.0   \n",
       "4                   Institutional                  3605.0               380.0   \n",
       "...                           ...                     ...                 ...   \n",
       "1010                  Residential               2905831.0            306581.0   \n",
       "1011                  Residential               1697773.0            179125.0   \n",
       "1012            Large Residential               9651221.0           1018258.0   \n",
       "1013                   Commercial               8380985.0            884241.0   \n",
       "1014                   Commercial              13811460.0           1457186.0   \n",
       "\n",
       "     Utility/Data Source  \n",
       "0          National Grid  \n",
       "1          National Grid  \n",
       "2          National Grid  \n",
       "3          National Grid  \n",
       "4          National Grid  \n",
       "...                  ...  \n",
       "1010               ConEd  \n",
       "1011               ConEd  \n",
       "1012               ConEd  \n",
       "1013       National Grid  \n",
       "1014               ConEd  \n",
       "\n",
       "[1015 rows x 5 columns]"
      ]
     },
     "metadata": {},
     "output_type": "display_data"
    }
   ],
   "source": [
    "display(df)"
   ]
  },
  {
   "cell_type": "code",
   "execution_count": 3,
   "id": "39a80489-1a29-4928-82ae-955a99367214",
   "metadata": {},
   "outputs": [
    {
     "name": "stdout",
     "output_type": "stream",
     "text": [
      "<class 'pandas.core.frame.DataFrame'>\n",
      "RangeIndex: 1015 entries, 0 to 1014\n",
      "Data columns (total 5 columns):\n",
      " #   Column                        Non-Null Count  Dtype  \n",
      "---  ------                        --------------  -----  \n",
      " 0   Zip Code                      1015 non-null   object \n",
      " 1   Building type (service class  1015 non-null   object \n",
      " 2    Consumption (therms)         1005 non-null   float64\n",
      " 3    Consumption (GJ)             1005 non-null   float64\n",
      " 4   Utility/Data Source           1015 non-null   object \n",
      "dtypes: float64(2), object(3)\n",
      "memory usage: 39.8+ KB\n"
     ]
    }
   ],
   "source": [
    "df.info()"
   ]
  },
  {
   "cell_type": "code",
   "execution_count": 4,
   "id": "5749d3a6-a5cc-4559-90ef-271abe3da0b0",
   "metadata": {},
   "outputs": [
    {
     "data": {
      "text/html": [
       "<div>\n",
       "<style scoped>\n",
       "    .dataframe tbody tr th:only-of-type {\n",
       "        vertical-align: middle;\n",
       "    }\n",
       "\n",
       "    .dataframe tbody tr th {\n",
       "        vertical-align: top;\n",
       "    }\n",
       "\n",
       "    .dataframe thead th {\n",
       "        text-align: right;\n",
       "    }\n",
       "</style>\n",
       "<table border=\"1\" class=\"dataframe\">\n",
       "  <thead>\n",
       "    <tr style=\"text-align: right;\">\n",
       "      <th></th>\n",
       "      <th>Consumption (therms)</th>\n",
       "      <th>Consumption (GJ)</th>\n",
       "    </tr>\n",
       "  </thead>\n",
       "  <tbody>\n",
       "    <tr>\n",
       "      <th>count</th>\n",
       "      <td>1.005000e+03</td>\n",
       "      <td>1.005000e+03</td>\n",
       "    </tr>\n",
       "    <tr>\n",
       "      <th>mean</th>\n",
       "      <td>2.750244e+06</td>\n",
       "      <td>2.901661e+05</td>\n",
       "    </tr>\n",
       "    <tr>\n",
       "      <th>std</th>\n",
       "      <td>4.297262e+06</td>\n",
       "      <td>4.533852e+05</td>\n",
       "    </tr>\n",
       "    <tr>\n",
       "      <th>min</th>\n",
       "      <td>1.000000e+00</td>\n",
       "      <td>0.000000e+00</td>\n",
       "    </tr>\n",
       "    <tr>\n",
       "      <th>25%</th>\n",
       "      <td>1.643790e+05</td>\n",
       "      <td>1.734300e+04</td>\n",
       "    </tr>\n",
       "    <tr>\n",
       "      <th>50%</th>\n",
       "      <td>1.165816e+06</td>\n",
       "      <td>1.230000e+05</td>\n",
       "    </tr>\n",
       "    <tr>\n",
       "      <th>75%</th>\n",
       "      <td>3.446607e+06</td>\n",
       "      <td>3.636360e+05</td>\n",
       "    </tr>\n",
       "    <tr>\n",
       "      <th>max</th>\n",
       "      <td>4.274765e+07</td>\n",
       "      <td>4.510117e+06</td>\n",
       "    </tr>\n",
       "  </tbody>\n",
       "</table>\n",
       "</div>"
      ],
      "text/plain": [
       "        Consumption (therms)    Consumption (GJ) \n",
       "count            1.005000e+03        1.005000e+03\n",
       "mean             2.750244e+06        2.901661e+05\n",
       "std              4.297262e+06        4.533852e+05\n",
       "min              1.000000e+00        0.000000e+00\n",
       "25%              1.643790e+05        1.734300e+04\n",
       "50%              1.165816e+06        1.230000e+05\n",
       "75%              3.446607e+06        3.636360e+05\n",
       "max              4.274765e+07        4.510117e+06"
      ]
     },
     "execution_count": 4,
     "metadata": {},
     "output_type": "execute_result"
    }
   ],
   "source": [
    "df.describe()"
   ]
  },
  {
   "cell_type": "code",
   "execution_count": 9,
   "id": "7d850dd7-6683-4fa6-91cf-178f218168e7",
   "metadata": {},
   "outputs": [
    {
     "data": {
      "text/html": [
       "<div>\n",
       "<style scoped>\n",
       "    .dataframe tbody tr th:only-of-type {\n",
       "        vertical-align: middle;\n",
       "    }\n",
       "\n",
       "    .dataframe tbody tr th {\n",
       "        vertical-align: top;\n",
       "    }\n",
       "\n",
       "    .dataframe thead th {\n",
       "        text-align: right;\n",
       "    }\n",
       "</style>\n",
       "<table border=\"1\" class=\"dataframe\">\n",
       "  <thead>\n",
       "    <tr style=\"text-align: right;\">\n",
       "      <th></th>\n",
       "      <th>Zip Code</th>\n",
       "      <th>Building Type</th>\n",
       "      <th>Consumption (Therms)</th>\n",
       "      <th>Consumption (GJ)</th>\n",
       "      <th>Source</th>\n",
       "    </tr>\n",
       "  </thead>\n",
       "  <tbody>\n",
       "    <tr>\n",
       "      <th>0</th>\n",
       "      <td>10300\\n</td>\n",
       "      <td>Commercial</td>\n",
       "      <td>470.0</td>\n",
       "      <td>50.0</td>\n",
       "      <td>National Grid</td>\n",
       "    </tr>\n",
       "    <tr>\n",
       "      <th>1</th>\n",
       "      <td>10335\\n</td>\n",
       "      <td>Commercial</td>\n",
       "      <td>647.0</td>\n",
       "      <td>68.0</td>\n",
       "      <td>National Grid</td>\n",
       "    </tr>\n",
       "    <tr>\n",
       "      <th>2</th>\n",
       "      <td>10360\\n</td>\n",
       "      <td>Large residential</td>\n",
       "      <td>33762.0</td>\n",
       "      <td>3562.0</td>\n",
       "      <td>National Grid</td>\n",
       "    </tr>\n",
       "  </tbody>\n",
       "</table>\n",
       "</div>"
      ],
      "text/plain": [
       "  Zip Code      Building Type  Consumption (Therms)  Consumption (GJ)  \\\n",
       "0  10300\\n         Commercial                 470.0              50.0   \n",
       "1  10335\\n         Commercial                 647.0              68.0   \n",
       "2  10360\\n  Large residential               33762.0            3562.0   \n",
       "\n",
       "          Source  \n",
       "0  National Grid  \n",
       "1  National Grid  \n",
       "2  National Grid  "
      ]
     },
     "execution_count": 9,
     "metadata": {},
     "output_type": "execute_result"
    }
   ],
   "source": [
    "# renomeando as colunas\n",
    "df.columns = ['Zip Code', 'Building Type', 'Consumption (Therms)', 'Consumption (GJ)', 'Source']\n",
    "df.head(3)"
   ]
  },
  {
   "cell_type": "code",
   "execution_count": 10,
   "id": "24654d6f-a187-4417-a607-8ae392be06f3",
   "metadata": {},
   "outputs": [
    {
     "name": "stdout",
     "output_type": "stream",
     "text": [
      "['10300' '10335' '10360' '11200' '11254' '11274' '11279' '11303' '11313'\n",
      " '11314' '11315' '11323' '11332' '11335' '11337' '11343' '11350' '11388'\n",
      " '11400' '11402' '11403' '11438' '11441' '11446' '11450' '11468' '11469'\n",
      " '11472' '11473' '11474' '11475' '11477' '11478' '11479' '11485' '11696'\n",
      " '10007' '10002' '10012' '10003' '10001' '10013' '10005' '10006' '10010'\n",
      " '10009' '10011' '10075' '11103' '11105' '11432' '10031' '10466' '10459'\n",
      " '11413' '10451' '11434' '11209' '10464' '11415' '10302' '11385' '11201'\n",
      " '11208' '11212' '11001' '11230' '11239' '10305' '10458' '10040' '10080'\n",
      " '11231' '11377' '11106' '11102' '10027' '11355' '10465' '10039' '11361'\n",
      " '10467' '10034' '10307' '10029' '11429' '11416' '11362' '11366' '11207'\n",
      " '11004' '11375' '11220' '11367' '11374' '11222' '11418' '10474' '10308'\n",
      " '10452' '11356' '10021' '11238' '11419' '10038' '10014' '10469' '11365'\n",
      " '10024' '11368' '11040' '11215' '11357' '11378' '10030' '11206' '11218'\n",
      " '11372' '11421' '10128' '11426' '10025' '10018' '11364' '10069' '11412'\n",
      " '10306' '10468' '10472' '11427' '11211' '11237' '11203' '10004' '10023'\n",
      " '10026' '10473' '10461' '10022' '10019' '11435' '10032' '11224' '11422'\n",
      " '11370' '10470' '11436' '10285' '11214' '11428' '10020' '10065' '11226'\n",
      " '11433' '10314' '11205' '11697' '10016' '10033' '11354' '11411' '10312'\n",
      " '10017' '11373' '10028' '10304' '10462' '10453' '10303' '11693' '11695'\n",
      " '11358' '10037' '11216' '11414' '10454' '10036' '11417' '10310' '11242'\n",
      " '11369' '11360' '10455' '10471' '11210' '11233' '11204' '11225' '11228'\n",
      " '10309' '11236' '10456' '11217' '10457' '11371' '11691' '11235' '10045'\n",
      " '11241' '11229' '11104' '10460' '11243' '11213' '11423' '11221' '11694'\n",
      " '11363' '10463' '11420' '11219' '11232' '10475' '10280' '11692' '10281'\n",
      " '10035' '11252' '11109' '11234' '11101' '11223' '11430' '10282' '10301'\n",
      " '10044' '11256' '11379' '11439' '10311' '11359']\n"
     ]
    }
   ],
   "source": [
    "# tratar algumas informações, coluna de ZIPCODE tem lat e long junto com o ZIPCODE, vamos separar em 2 colunas\n",
    "df['Zip Code'] = df['Zip Code'].str.replace('\\n', '')\n",
    "df['Zip Code'] = df['Zip Code'].str.replace(' ', '')\n",
    "df['Zip Code'] = df['Zip Code'].str.split('(')\n",
    "df['LongLat'] = df['Zip Code'].str[1]\n",
    "df['Zip Code'] = df['Zip Code'].str[0]\n",
    "print(df['Zip Code'].unique())"
   ]
  },
  {
   "cell_type": "code",
   "execution_count": 12,
   "id": "efa8c2b3-d2c5-4735-b6c7-eb833d8bdce8",
   "metadata": {},
   "outputs": [
    {
     "data": {
      "text/html": [
       "<div>\n",
       "<style scoped>\n",
       "    .dataframe tbody tr th:only-of-type {\n",
       "        vertical-align: middle;\n",
       "    }\n",
       "\n",
       "    .dataframe tbody tr th {\n",
       "        vertical-align: top;\n",
       "    }\n",
       "\n",
       "    .dataframe thead th {\n",
       "        text-align: right;\n",
       "    }\n",
       "</style>\n",
       "<table border=\"1\" class=\"dataframe\">\n",
       "  <thead>\n",
       "    <tr style=\"text-align: right;\">\n",
       "      <th></th>\n",
       "      <th>Zip Code</th>\n",
       "      <th>Building Type</th>\n",
       "      <th>Consumption (Therms)</th>\n",
       "      <th>Consumption (GJ)</th>\n",
       "      <th>Source</th>\n",
       "      <th>LongLat</th>\n",
       "    </tr>\n",
       "  </thead>\n",
       "  <tbody>\n",
       "    <tr>\n",
       "      <th>0</th>\n",
       "      <td>10300</td>\n",
       "      <td>Commercial</td>\n",
       "      <td>470.0</td>\n",
       "      <td>50.0</td>\n",
       "      <td>National Grid</td>\n",
       "      <td>NaN</td>\n",
       "    </tr>\n",
       "    <tr>\n",
       "      <th>1</th>\n",
       "      <td>10335</td>\n",
       "      <td>Commercial</td>\n",
       "      <td>647.0</td>\n",
       "      <td>68.0</td>\n",
       "      <td>National Grid</td>\n",
       "      <td>NaN</td>\n",
       "    </tr>\n",
       "    <tr>\n",
       "      <th>2</th>\n",
       "      <td>10360</td>\n",
       "      <td>Large residential</td>\n",
       "      <td>33762.0</td>\n",
       "      <td>3562.0</td>\n",
       "      <td>National Grid</td>\n",
       "      <td>NaN</td>\n",
       "    </tr>\n",
       "    <tr>\n",
       "      <th>3</th>\n",
       "      <td>11200</td>\n",
       "      <td>Commercial</td>\n",
       "      <td>32125.0</td>\n",
       "      <td>3389.0</td>\n",
       "      <td>National Grid</td>\n",
       "      <td>NaN</td>\n",
       "    </tr>\n",
       "    <tr>\n",
       "      <th>4</th>\n",
       "      <td>11200</td>\n",
       "      <td>Institutional</td>\n",
       "      <td>3605.0</td>\n",
       "      <td>380.0</td>\n",
       "      <td>National Grid</td>\n",
       "      <td>NaN</td>\n",
       "    </tr>\n",
       "    <tr>\n",
       "      <th>...</th>\n",
       "      <td>...</td>\n",
       "      <td>...</td>\n",
       "      <td>...</td>\n",
       "      <td>...</td>\n",
       "      <td>...</td>\n",
       "      <td>...</td>\n",
       "    </tr>\n",
       "    <tr>\n",
       "      <th>1010</th>\n",
       "      <td>11367</td>\n",
       "      <td>Residential</td>\n",
       "      <td>2905831.0</td>\n",
       "      <td>306581.0</td>\n",
       "      <td>ConEd</td>\n",
       "      <td>40.730323085042414,-73.82610630716033)</td>\n",
       "    </tr>\n",
       "    <tr>\n",
       "      <th>1011</th>\n",
       "      <td>10457</td>\n",
       "      <td>Residential</td>\n",
       "      <td>1697773.0</td>\n",
       "      <td>179125.0</td>\n",
       "      <td>ConEd</td>\n",
       "      <td>40.84579837129786,-73.89832418681175)</td>\n",
       "    </tr>\n",
       "    <tr>\n",
       "      <th>1012</th>\n",
       "      <td>10461</td>\n",
       "      <td>Large Residential</td>\n",
       "      <td>9651221.0</td>\n",
       "      <td>1018258.0</td>\n",
       "      <td>ConEd</td>\n",
       "      <td>40.846960590359004,-73.840632836736)</td>\n",
       "    </tr>\n",
       "    <tr>\n",
       "      <th>1013</th>\n",
       "      <td>11420</td>\n",
       "      <td>Commercial</td>\n",
       "      <td>8380985.0</td>\n",
       "      <td>884241.0</td>\n",
       "      <td>National Grid</td>\n",
       "      <td>40.67334524268887,-73.81770717164864)</td>\n",
       "    </tr>\n",
       "    <tr>\n",
       "      <th>1014</th>\n",
       "      <td>10065</td>\n",
       "      <td>Commercial</td>\n",
       "      <td>13811460.0</td>\n",
       "      <td>1457186.0</td>\n",
       "      <td>ConEd</td>\n",
       "      <td>40.76430121303059,-73.96303993544461)</td>\n",
       "    </tr>\n",
       "  </tbody>\n",
       "</table>\n",
       "<p>1015 rows × 6 columns</p>\n",
       "</div>"
      ],
      "text/plain": [
       "     Zip Code      Building Type  Consumption (Therms)  Consumption (GJ)  \\\n",
       "0       10300         Commercial                 470.0              50.0   \n",
       "1       10335         Commercial                 647.0              68.0   \n",
       "2       10360  Large residential               33762.0            3562.0   \n",
       "3       11200         Commercial               32125.0            3389.0   \n",
       "4       11200      Institutional                3605.0             380.0   \n",
       "...       ...                ...                   ...               ...   \n",
       "1010    11367        Residential             2905831.0          306581.0   \n",
       "1011    10457        Residential             1697773.0          179125.0   \n",
       "1012    10461  Large Residential             9651221.0         1018258.0   \n",
       "1013    11420         Commercial             8380985.0          884241.0   \n",
       "1014    10065         Commercial            13811460.0         1457186.0   \n",
       "\n",
       "             Source                                 LongLat  \n",
       "0     National Grid                                     NaN  \n",
       "1     National Grid                                     NaN  \n",
       "2     National Grid                                     NaN  \n",
       "3     National Grid                                     NaN  \n",
       "4     National Grid                                     NaN  \n",
       "...             ...                                     ...  \n",
       "1010          ConEd  40.730323085042414,-73.82610630716033)  \n",
       "1011          ConEd   40.84579837129786,-73.89832418681175)  \n",
       "1012          ConEd    40.846960590359004,-73.840632836736)  \n",
       "1013  National Grid   40.67334524268887,-73.81770717164864)  \n",
       "1014          ConEd   40.76430121303059,-73.96303993544461)  \n",
       "\n",
       "[1015 rows x 6 columns]"
      ]
     },
     "metadata": {},
     "output_type": "display_data"
    }
   ],
   "source": [
    "# vamos ver como está o novo formato\n",
    "display(df)"
   ]
  },
  {
   "cell_type": "code",
   "execution_count": 13,
   "id": "9c7a74c6-7923-48f5-96f1-731f7ca31a12",
   "metadata": {},
   "outputs": [
    {
     "data": {
      "text/plain": [
       "array(['Commercial', 'Large residential', 'Institutional',\n",
       "       'Small residential', 'Industrial', 'Residential',\n",
       "       'Large Residential'], dtype=object)"
      ]
     },
     "execution_count": 13,
     "metadata": {},
     "output_type": "execute_result"
    }
   ],
   "source": [
    "df['Building Type'].unique()   # mostra os valores possiveis desta coluna"
   ]
  },
  {
   "cell_type": "code",
   "execution_count": 14,
   "id": "0e212e07-7856-425e-ae44-97f34f399186",
   "metadata": {},
   "outputs": [],
   "source": [
    "# Apenas adequando a formatação do texto\n",
    "df['Building Type'] = df['Building Type'].str.replace('Large residential', 'Large Residential')\n",
    "df['Building Type'] = df['Building Type'].str.replace('Small residential', 'Small Residential')"
   ]
  },
  {
   "cell_type": "code",
   "execution_count": 22,
   "id": "d6c5910f-71b4-4a0e-a11b-41285b763e6d",
   "metadata": {},
   "outputs": [
    {
     "data": {
      "text/html": [
       "<div>\n",
       "<style scoped>\n",
       "    .dataframe tbody tr th:only-of-type {\n",
       "        vertical-align: middle;\n",
       "    }\n",
       "\n",
       "    .dataframe tbody tr th {\n",
       "        vertical-align: top;\n",
       "    }\n",
       "\n",
       "    .dataframe thead th {\n",
       "        text-align: right;\n",
       "    }\n",
       "</style>\n",
       "<table border=\"1\" class=\"dataframe\">\n",
       "  <thead>\n",
       "    <tr style=\"text-align: right;\">\n",
       "      <th></th>\n",
       "      <th>Zip Code</th>\n",
       "      <th>Building Type</th>\n",
       "      <th>Consumption (Therms)</th>\n",
       "      <th>Consumption (GJ)</th>\n",
       "      <th>Source</th>\n",
       "      <th>LongLat</th>\n",
       "    </tr>\n",
       "  </thead>\n",
       "  <tbody>\n",
       "    <tr>\n",
       "      <th>1010</th>\n",
       "      <td>11367</td>\n",
       "      <td>Residential</td>\n",
       "      <td>2905831.0</td>\n",
       "      <td>306581.0</td>\n",
       "      <td>ConEd</td>\n",
       "      <td>40.730323085042414,-73.82610630716033)</td>\n",
       "    </tr>\n",
       "    <tr>\n",
       "      <th>1011</th>\n",
       "      <td>10457</td>\n",
       "      <td>Residential</td>\n",
       "      <td>1697773.0</td>\n",
       "      <td>179125.0</td>\n",
       "      <td>ConEd</td>\n",
       "      <td>40.84579837129786,-73.89832418681175)</td>\n",
       "    </tr>\n",
       "    <tr>\n",
       "      <th>1012</th>\n",
       "      <td>10461</td>\n",
       "      <td>Large Residential</td>\n",
       "      <td>9651221.0</td>\n",
       "      <td>1018258.0</td>\n",
       "      <td>ConEd</td>\n",
       "      <td>40.846960590359004,-73.840632836736)</td>\n",
       "    </tr>\n",
       "    <tr>\n",
       "      <th>1013</th>\n",
       "      <td>11420</td>\n",
       "      <td>Commercial</td>\n",
       "      <td>8380985.0</td>\n",
       "      <td>884241.0</td>\n",
       "      <td>National Grid</td>\n",
       "      <td>40.67334524268887,-73.81770717164864)</td>\n",
       "    </tr>\n",
       "    <tr>\n",
       "      <th>1014</th>\n",
       "      <td>10065</td>\n",
       "      <td>Commercial</td>\n",
       "      <td>13811460.0</td>\n",
       "      <td>1457186.0</td>\n",
       "      <td>ConEd</td>\n",
       "      <td>40.76430121303059,-73.96303993544461)</td>\n",
       "    </tr>\n",
       "  </tbody>\n",
       "</table>\n",
       "</div>"
      ],
      "text/plain": [
       "     Zip Code      Building Type  Consumption (Therms)  Consumption (GJ)  \\\n",
       "1010    11367        Residential             2905831.0          306581.0   \n",
       "1011    10457        Residential             1697773.0          179125.0   \n",
       "1012    10461  Large Residential             9651221.0         1018258.0   \n",
       "1013    11420         Commercial             8380985.0          884241.0   \n",
       "1014    10065         Commercial            13811460.0         1457186.0   \n",
       "\n",
       "             Source                                 LongLat  \n",
       "1010          ConEd  40.730323085042414,-73.82610630716033)  \n",
       "1011          ConEd   40.84579837129786,-73.89832418681175)  \n",
       "1012          ConEd    40.846960590359004,-73.840632836736)  \n",
       "1013  National Grid   40.67334524268887,-73.81770717164864)  \n",
       "1014          ConEd   40.76430121303059,-73.96303993544461)  "
      ]
     },
     "execution_count": 22,
     "metadata": {},
     "output_type": "execute_result"
    }
   ],
   "source": [
    "df.tail(5)"
   ]
  },
  {
   "cell_type": "code",
   "execution_count": 23,
   "id": "085b6974-117d-478d-be0c-507eceba811d",
   "metadata": {},
   "outputs": [
    {
     "data": {
      "text/plain": [
       "array(['National Grid', 'ConEd'], dtype=object)"
      ]
     },
     "execution_count": 23,
     "metadata": {},
     "output_type": "execute_result"
    }
   ],
   "source": [
    "df['Source'].unique()"
   ]
  },
  {
   "cell_type": "code",
   "execution_count": 24,
   "id": "ab06643e-c011-4fea-a1ce-6edb1c84720e",
   "metadata": {},
   "outputs": [
    {
     "name": "stdout",
     "output_type": "stream",
     "text": [
      "<class 'pandas.core.frame.DataFrame'>\n",
      "RangeIndex: 1015 entries, 0 to 1014\n",
      "Data columns (total 6 columns):\n",
      " #   Column                Non-Null Count  Dtype  \n",
      "---  ------                --------------  -----  \n",
      " 0   Zip Code              1015 non-null   object \n",
      " 1   Building Type         1015 non-null   object \n",
      " 2   Consumption (Therms)  1005 non-null   float64\n",
      " 3   Consumption (GJ)      1005 non-null   float64\n",
      " 4   Source                1015 non-null   object \n",
      " 5   LongLat               964 non-null    object \n",
      "dtypes: float64(2), object(4)\n",
      "memory usage: 47.7+ KB\n"
     ]
    }
   ],
   "source": [
    "df.info()"
   ]
  },
  {
   "cell_type": "code",
   "execution_count": 26,
   "id": "d64d3874-8266-41f9-a3cb-f2188cff02d8",
   "metadata": {},
   "outputs": [
    {
     "name": "stderr",
     "output_type": "stream",
     "text": [
      "C:\\Users\\arthu\\AppData\\Local\\Temp\\ipykernel_11784\\2425052830.py:2: FutureWarning: The default value of regex will change from True to False in a future version. In addition, single character regular expressions will *not* be treated as literal strings when regex=True.\n",
      "  df['LongLat'] = df['LongLat'].str.replace(')', '')\n"
     ]
    },
    {
     "data": {
      "text/html": [
       "<div>\n",
       "<style scoped>\n",
       "    .dataframe tbody tr th:only-of-type {\n",
       "        vertical-align: middle;\n",
       "    }\n",
       "\n",
       "    .dataframe tbody tr th {\n",
       "        vertical-align: top;\n",
       "    }\n",
       "\n",
       "    .dataframe thead th {\n",
       "        text-align: right;\n",
       "    }\n",
       "</style>\n",
       "<table border=\"1\" class=\"dataframe\">\n",
       "  <thead>\n",
       "    <tr style=\"text-align: right;\">\n",
       "      <th></th>\n",
       "      <th>Zip Code</th>\n",
       "      <th>Building Type</th>\n",
       "      <th>Consumption (Therms)</th>\n",
       "      <th>Consumption (GJ)</th>\n",
       "      <th>Source</th>\n",
       "      <th>Longitude</th>\n",
       "      <th>Latitude</th>\n",
       "    </tr>\n",
       "  </thead>\n",
       "  <tbody>\n",
       "    <tr>\n",
       "      <th>1005</th>\n",
       "      <td>11109</td>\n",
       "      <td>Commercial</td>\n",
       "      <td>752231.0</td>\n",
       "      <td>79365.0</td>\n",
       "      <td>ConEd</td>\n",
       "      <td>40.744414792408804</td>\n",
       "      <td>-73.95770234668589</td>\n",
       "    </tr>\n",
       "    <tr>\n",
       "      <th>1006</th>\n",
       "      <td>11216</td>\n",
       "      <td>Commercial</td>\n",
       "      <td>1795793.0</td>\n",
       "      <td>189466.0</td>\n",
       "      <td>National Grid</td>\n",
       "      <td>40.680758670876</td>\n",
       "      <td>-73.94926775090596</td>\n",
       "    </tr>\n",
       "    <tr>\n",
       "      <th>1007</th>\n",
       "      <td>11213</td>\n",
       "      <td>Small Residential</td>\n",
       "      <td>5855036.0</td>\n",
       "      <td>617739.0</td>\n",
       "      <td>National Grid</td>\n",
       "      <td>40.67122516920625</td>\n",
       "      <td>-73.93644336636822</td>\n",
       "    </tr>\n",
       "    <tr>\n",
       "      <th>1008</th>\n",
       "      <td>11426</td>\n",
       "      <td>Small Residential</td>\n",
       "      <td>2754.0</td>\n",
       "      <td>291.0</td>\n",
       "      <td>National Grid</td>\n",
       "      <td>40.73704138495202</td>\n",
       "      <td>-73.72415699894628</td>\n",
       "    </tr>\n",
       "    <tr>\n",
       "      <th>1009</th>\n",
       "      <td>10037</td>\n",
       "      <td>Large Residential</td>\n",
       "      <td>4228025.0</td>\n",
       "      <td>446080.0</td>\n",
       "      <td>ConEd</td>\n",
       "      <td>40.81329776108288</td>\n",
       "      <td>-73.93728252556804</td>\n",
       "    </tr>\n",
       "    <tr>\n",
       "      <th>1010</th>\n",
       "      <td>11367</td>\n",
       "      <td>Residential</td>\n",
       "      <td>2905831.0</td>\n",
       "      <td>306581.0</td>\n",
       "      <td>ConEd</td>\n",
       "      <td>40.730323085042414</td>\n",
       "      <td>-73.82610630716033</td>\n",
       "    </tr>\n",
       "    <tr>\n",
       "      <th>1011</th>\n",
       "      <td>10457</td>\n",
       "      <td>Residential</td>\n",
       "      <td>1697773.0</td>\n",
       "      <td>179125.0</td>\n",
       "      <td>ConEd</td>\n",
       "      <td>40.84579837129786</td>\n",
       "      <td>-73.89832418681175</td>\n",
       "    </tr>\n",
       "    <tr>\n",
       "      <th>1012</th>\n",
       "      <td>10461</td>\n",
       "      <td>Large Residential</td>\n",
       "      <td>9651221.0</td>\n",
       "      <td>1018258.0</td>\n",
       "      <td>ConEd</td>\n",
       "      <td>40.846960590359004</td>\n",
       "      <td>-73.840632836736</td>\n",
       "    </tr>\n",
       "    <tr>\n",
       "      <th>1013</th>\n",
       "      <td>11420</td>\n",
       "      <td>Commercial</td>\n",
       "      <td>8380985.0</td>\n",
       "      <td>884241.0</td>\n",
       "      <td>National Grid</td>\n",
       "      <td>40.67334524268887</td>\n",
       "      <td>-73.81770717164864</td>\n",
       "    </tr>\n",
       "    <tr>\n",
       "      <th>1014</th>\n",
       "      <td>10065</td>\n",
       "      <td>Commercial</td>\n",
       "      <td>13811460.0</td>\n",
       "      <td>1457186.0</td>\n",
       "      <td>ConEd</td>\n",
       "      <td>40.76430121303059</td>\n",
       "      <td>-73.96303993544461</td>\n",
       "    </tr>\n",
       "  </tbody>\n",
       "</table>\n",
       "</div>"
      ],
      "text/plain": [
       "     Zip Code      Building Type  Consumption (Therms)  Consumption (GJ)  \\\n",
       "1005    11109         Commercial              752231.0           79365.0   \n",
       "1006    11216         Commercial             1795793.0          189466.0   \n",
       "1007    11213  Small Residential             5855036.0          617739.0   \n",
       "1008    11426  Small Residential                2754.0             291.0   \n",
       "1009    10037  Large Residential             4228025.0          446080.0   \n",
       "1010    11367        Residential             2905831.0          306581.0   \n",
       "1011    10457        Residential             1697773.0          179125.0   \n",
       "1012    10461  Large Residential             9651221.0         1018258.0   \n",
       "1013    11420         Commercial             8380985.0          884241.0   \n",
       "1014    10065         Commercial            13811460.0         1457186.0   \n",
       "\n",
       "             Source           Longitude            Latitude  \n",
       "1005          ConEd  40.744414792408804  -73.95770234668589  \n",
       "1006  National Grid     40.680758670876  -73.94926775090596  \n",
       "1007  National Grid   40.67122516920625  -73.93644336636822  \n",
       "1008  National Grid   40.73704138495202  -73.72415699894628  \n",
       "1009          ConEd   40.81329776108288  -73.93728252556804  \n",
       "1010          ConEd  40.730323085042414  -73.82610630716033  \n",
       "1011          ConEd   40.84579837129786  -73.89832418681175  \n",
       "1012          ConEd  40.846960590359004    -73.840632836736  \n",
       "1013  National Grid   40.67334524268887  -73.81770717164864  \n",
       "1014          ConEd   40.76430121303059  -73.96303993544461  "
      ]
     },
     "execution_count": 26,
     "metadata": {},
     "output_type": "execute_result"
    }
   ],
   "source": [
    "# VAmos separar latitude e longitude\n",
    "df['LongLat'] = df['LongLat'].str.replace(')', '')\n",
    "df['LongLat'] = df['LongLat'].str.split(',')\n",
    "df['Longitude'] = df['LongLat'].str[0]\n",
    "df['Latitude'] = df['LongLat'].str[1]\n",
    "df.drop('LongLat', axis=1, inplace=True)\n",
    "df.tail(10)"
   ]
  },
  {
   "cell_type": "markdown",
   "id": "79e238f1-7b3b-46f0-b939-b5ce41b0d58c",
   "metadata": {},
   "source": [
    "# Data Visualization"
   ]
  },
  {
   "cell_type": "code",
   "execution_count": 27,
   "id": "7d0568af-cd8b-42fe-a305-c384bad1ed6d",
   "metadata": {},
   "outputs": [
    {
     "data": {
      "image/png": "[encoded data removed]",
      "text/plain": [
       "<Figure size 864x432 with 1 Axes>"
      ]
     },
     "metadata": {},
     "output_type": "display_data"
    }
   ],
   "source": [
    "plt.figure(figsize=(12,6))\n",
    "sns.countplot(data=df, x='Building Type')\n",
    "plt.title('Number of Buildings by Type')\n",
    "plt.xlabel(None)\n",
    "plt.show()"
   ]
  },
  {
   "cell_type": "code",
   "execution_count": 30,
   "id": "fa4a8b11-32f9-4cc3-91c9-0ffb59005faf",
   "metadata": {},
   "outputs": [
    {
     "data": {
      "image/png": "[encoded data removed]",
      "text/plain": [
       "<Figure size 864x432 with 1 Axes>"
      ]
     },
     "metadata": {},
     "output_type": "display_data"
    }
   ],
   "source": [
    "plt.figure(figsize=(12,6))\n",
    "sns.histplot(data=df, x='Consumption (GJ)')\n",
    "plt.xlim([0,1_500_000])\n",
    "plt.show()"
   ]
  },
  {
   "cell_type": "markdown",
   "id": "a303d97c-9c41-4ef3-96f1-e8b91f5b361f",
   "metadata": {},
   "source": [
    "Podemos inferir que, o consumo de gás é espalhado, ou seja, maioria dos ZIPCODES tem um consumo normal de gás\n",
    "baixo, mas há também consumo acima de 1(GJ)."
   ]
  },
  {
   "cell_type": "code",
   "execution_count": 32,
   "id": "0532fc8d-0a28-45d1-ab7a-4dde32bc8f41",
   "metadata": {},
   "outputs": [
    {
     "data": {
      "image/png": "[encoded data removed]",
      "text/plain": [
       "<Figure size 864x432 with 1 Axes>"
      ]
     },
     "metadata": {},
     "output_type": "display_data"
    }
   ],
   "source": [
    "plt.figure(figsize=(12,6))\n",
    "sns.barplot(data=df, x='Building Type', y='Consumption (GJ)')\n",
    "plt.title('Average Natural Gas Consumption for each Zip Code\\n grouped by Building Type')\n",
    "plt.xlabel(None)\n",
    "plt.show()"
   ]
  },
  {
   "cell_type": "code",
   "execution_count": 33,
   "id": "275b11ae-dd76-41b6-ade0-ceb5b54b579d",
   "metadata": {},
   "outputs": [
    {
     "data": {
      "image/png": "[encoded data removed]",
      "text/plain": [
       "<Figure size 864x432 with 1 Axes>"
      ]
     },
     "metadata": {},
     "output_type": "display_data"
    }
   ],
   "source": [
    "plt.figure(figsize=(12,6))\n",
    "sns.barplot(data=df, x='Building Type', y='Consumption (GJ)', estimator=np.sum, ci=None)\n",
    "plt.title('Total Natural Gas Consumption for each Building Type')\n",
    "plt.xlabel(None)\n",
    "plt.show()"
   ]
  },
  {
   "cell_type": "markdown",
   "id": "0277d83c-d966-4f88-8b05-f894de4fff13",
   "metadata": {},
   "source": [
    "O maior consumo médio de gás veio de \"small residential areas\" (área residencial pequena), entretanto, o maior consumo total de gás veio de áreas comerciais \"Commercial\""
   ]
  },
  {
   "cell_type": "code",
   "execution_count": 34,
   "id": "c97f2c27-f8a1-424d-913c-f18ac8df71c7",
   "metadata": {},
   "outputs": [
    {
     "data": {
      "image/png": "[encoded data removed]",
      "text/plain": [
       "<Figure size 864x576 with 1 Axes>"
      ]
     },
     "metadata": {},
     "output_type": "display_data"
    }
   ],
   "source": [
    "plt.figure(figsize=(12,8))\n",
    "sns.boxplot(data=df, x='Building Type', y='Consumption (GJ)')\n",
    "plt.ylim([0, 2_200_000])\n",
    "plt.show()"
   ]
  },
  {
   "cell_type": "markdown",
   "id": "ab136750-ebff-461e-8a71-543b864d06c1",
   "metadata": {},
   "source": [
    "Analisando o gráfico acima, inferimos que, poucos ZIPCODES tem um consumo de gás acima de 2(GJ), e não aparecem no gráfico."
   ]
  },
  {
   "cell_type": "code",
   "execution_count": null,
   "id": "844ac318-28eb-421d-baea-be82a07bff28",
   "metadata": {},
   "outputs": [],
   "source": []
  },
  {
   "cell_type": "code",
   "execution_count": null,
   "id": "9d1eaf64-3e82-405a-8ca6-70968e08e313",
   "metadata": {},
   "outputs": [],
   "source": []
  },
  {
   "cell_type": "code",
   "execution_count": null,
   "id": "938fd496-ee6e-467e-aa98-2f3b597ef25c",
   "metadata": {},
   "outputs": [],
   "source": []
  },
  {
   "cell_type": "code",
   "execution_count": null,
   "id": "ed035584-d763-4fb8-bb65-1e126d3538c2",
   "metadata": {},
   "outputs": [],
   "source": []
  },
  {
   "cell_type": "code",
   "execution_count": null,
   "id": "e3b8de09-ebc7-42a9-aa69-1d189fbcba52",
   "metadata": {},
   "outputs": [],
   "source": []
  },
  {
   "cell_type": "code",
   "execution_count": null,
   "id": "af4f0916-c1b0-42d2-8566-f8caf3f91975",
   "metadata": {},
   "outputs": [],
   "source": []
  },
  {
   "cell_type": "code",
   "execution_count": null,
   "id": "f5fe7413-e5f4-4a89-b4bf-a1a3874a1593",
   "metadata": {},
   "outputs": [],
   "source": []
  },
  {
   "cell_type": "code",
   "execution_count": null,
   "id": "df47ee21-07dc-4901-9b71-76257d83476b",
   "metadata": {},
   "outputs": [],
   "source": []
  },
  {
   "cell_type": "code",
   "execution_count": null,
   "id": "1e9bdd29-f67c-4b06-8550-949d72d8cf0e",
   "metadata": {},
   "outputs": [],
   "source": []
  },
  {
   "cell_type": "code",
   "execution_count": null,
   "id": "fb99e8b6-5d61-4797-9b73-3b5477d07ca3",
   "metadata": {},
   "outputs": [],
   "source": []
  },
  {
   "cell_type": "code",
   "execution_count": null,
   "id": "9e122766-1c10-4ce6-b1c4-d9830ae1b6d3",
   "metadata": {},
   "outputs": [],
   "source": []
  },
  {
   "cell_type": "code",
   "execution_count": null,
   "id": "28db2288-7879-492a-a7fc-e1678d975dba",
   "metadata": {},
   "outputs": [],
   "source": []
  },
  {
   "cell_type": "code",
   "execution_count": null,
   "id": "c0b718df-167a-4826-bff4-60083677b897",
   "metadata": {},
   "outputs": [],
   "source": []
  },
  {
   "cell_type": "code",
   "execution_count": null,
   "id": "560a8715-8147-43b9-8ca5-23680d03fa1d",
   "metadata": {},
   "outputs": [],
   "source": []
  },
  {
   "cell_type": "code",
   "execution_count": null,
   "id": "a1277e98-9785-4000-a6f8-473f77f03ce7",
   "metadata": {},
   "outputs": [],
   "source": []
  },
  {
   "cell_type": "code",
   "execution_count": null,
   "id": "562e004c-002a-437b-ae89-e8ee14b2a1f3",
   "metadata": {},
   "outputs": [],
   "source": []
  },
  {
   "cell_type": "code",
   "execution_count": null,
   "id": "6be916b4-a3c3-4824-ba81-018b023a2faf",
   "metadata": {},
   "outputs": [],
   "source": []
  },
  {
   "cell_type": "code",
   "execution_count": null,
   "id": "728b5e12-fe28-4075-86c8-4a9b0d3beafc",
   "metadata": {},
   "outputs": [],
   "source": []
  },
  {
   "cell_type": "code",
   "execution_count": null,
   "id": "9f777251-2e68-4750-9705-b708f550098d",
   "metadata": {},
   "outputs": [],
   "source": []
  },
  {
   "cell_type": "code",
   "execution_count": null,
   "id": "37f5b57d-2354-44a5-8dc6-d204bf85ce95",
   "metadata": {},
   "outputs": [],
   "source": []
  },
  {
   "cell_type": "code",
   "execution_count": null,
   "id": "a89be641-01ac-42fd-8963-c7895b2a55ff",
   "metadata": {},
   "outputs": [],
   "source": []
  },
  {
   "cell_type": "code",
   "execution_count": null,
   "id": "f995b0fe-0cc9-4a20-9eb4-f9f3c303b5bb",
   "metadata": {},
   "outputs": [],
   "source": []
  },
  {
   "cell_type": "code",
   "execution_count": null,
   "id": "0f5a6200-454f-49c7-9b7d-f1526b1216da",
   "metadata": {},
   "outputs": [],
   "source": []
  },
  {
   "cell_type": "code",
   "execution_count": null,
   "id": "2d64c835-7d75-48d5-a835-693741ac3ce1",
   "metadata": {},
   "outputs": [],
   "source": []
  },
  {
   "cell_type": "code",
   "execution_count": null,
   "id": "ab19dab3-84ba-4222-9779-926f4ab731ea",
   "metadata": {},
   "outputs": [],
   "source": []
  },
  {
   "cell_type": "code",
   "execution_count": null,
   "id": "bc4c3644-b741-4041-bbf4-1fb341d1d5d7",
   "metadata": {},
   "outputs": [],
   "source": []
  },
  {
   "cell_type": "code",
   "execution_count": null,
   "id": "b61e2c44-19be-4f9f-ab53-054ea3460913",
   "metadata": {},
   "outputs": [],
   "source": []
  }
 ],
 "metadata": {
  "kernelspec": {
   "display_name": "Python 3 (ipykernel)",
   "language": "python",
   "name": "python3"
  },
  "language_info": {
   "codemirror_mode": {
    "name": "ipython",
    "version": 3
   },
   "file_extension": ".py",
   "mimetype": "text/x-python",
   "name": "python",
   "nbconvert_exporter": "python",
   "pygments_lexer": "ipython3",
   "version": "3.9.12"
  }
 },
 "nbformat": 4,
 "nbformat_minor": 5
}
