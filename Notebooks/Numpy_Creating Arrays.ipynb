{
 "cells": [
  {
   "cell_type": "code",
   "execution_count": null,
   "id": "e11bebdf",
   "metadata": {},
   "outputs": [],
   "source": [
    "NumPy: the absolute basics for beginners \n",
    "NumPy quickstart\n"
   ]
  },
  {
   "cell_type": "markdown",
   "id": "44c9fc26",
   "metadata": {},
   "source": [
    "- What’s the difference between a Python list and a NumPy array?\n",
    "\n",
    "NumPy gives you an enormous range of fast and efficient ways of creating arrays and manipulating numerical data inside them. While a Python list can contain different data types within a single list, all of the elements in a NumPy array should be homogeneous. The mathematical operations that are meant to be performed on arrays would be extremely inefficient if the arrays weren’t homogeneous.\n",
    "\n",
    "- Why use NumPy?\n",
    "\n",
    "NumPy arrays are faster and more compact than Python lists. An array consumes less memory and is convenient to use. NumPy uses much less memory to store data and it provides a mechanism of specifying the data types. This allows the code to be optimized even further."
   ]
  },
  {
   "cell_type": "code",
   "execution_count": null,
   "id": "e46d7d36",
   "metadata": {},
   "outputs": [],
   "source": [
    "## NumPy Creating Arrays\n",
    "\n",
    "import numpy as np\n",
    "\n",
    "arr = np.array([1, 2, 3, 4, 5])\n",
    "ara = np.zeros([3, 3], dtype=float)\n",
    "print(arr)\n",
    "print(type(arr))\n",
    "print(ara)"
   ]
  },
  {
   "cell_type": "markdown",
   "id": "5110ac9b",
   "metadata": {},
   "source": [
    "- 0-D Arrays\n",
    "0-D arrays, or Scalars, are the elements in an array. Each value in an array is a 0-D array.\n",
    "\n",
    "- 1-D Arrays\n",
    "An array that has 0-D arrays as its elements is called uni-dimensional or 1-D array.\n",
    "\n",
    "These are the most common and basic arrays.\n",
    "\n",
    "- 2-D Arrays\n",
    "An array that has 1-D arrays as its elements is called a 2-D array.\n",
    "\n",
    "These are often used to represent matrix or 2nd order tensors."
   ]
  },
  {
   "cell_type": "code",
   "execution_count": 1,
   "id": "2cfabed0",
   "metadata": {},
   "outputs": [],
   "source": [
    "import numpy as np"
   ]
  },
  {
   "cell_type": "code",
   "execution_count": 2,
   "id": "c25b9c49",
   "metadata": {},
   "outputs": [],
   "source": [
    "arr0D = np.array(42)"
   ]
  },
  {
   "cell_type": "code",
   "execution_count": 3,
   "id": "9215a32e",
   "metadata": {},
   "outputs": [
    {
     "name": "stdout",
     "output_type": "stream",
     "text": [
      "42\n"
     ]
    }
   ],
   "source": [
    "print(arr0D)"
   ]
  },
  {
   "cell_type": "code",
   "execution_count": 4,
   "id": "8f3ba1f7",
   "metadata": {},
   "outputs": [
    {
     "name": "stdout",
     "output_type": "stream",
     "text": [
      "[1 2 3 4 5]\n"
     ]
    }
   ],
   "source": [
    "arr1D = np.array([1, 2, 3, 4, 5])\n",
    "print(arr1D)"
   ]
  },
  {
   "cell_type": "code",
   "execution_count": 7,
   "id": "01e88672",
   "metadata": {},
   "outputs": [
    {
     "name": "stdout",
     "output_type": "stream",
     "text": [
      "[[1 2 3]\n",
      " [4 5 6]]\n",
      "[[1 2 3 4 5]\n",
      " [1 2 3 4 5]]\n"
     ]
    }
   ],
   "source": [
    "arr2D = np.array([[1, 2, 3], [4, 5, 6]])\n",
    "print(arr2D)\n",
    "arr2D_1 = np.array([arr1D, arr1D])\n",
    "print(arr2D_1)"
   ]
  },
  {
   "cell_type": "code",
   "execution_count": 18,
   "id": "b377eb6a",
   "metadata": {},
   "outputs": [
    {
     "name": "stdout",
     "output_type": "stream",
     "text": [
      "[[[1 2 3]\n",
      "  [4 5 6]]\n",
      "\n",
      " [[1 2 3]\n",
      "  [4 5 6]]]\n",
      "----------------\n"
     ]
    }
   ],
   "source": [
    "arr3D = np.array([[[1, 2, 3],[4, 5, 6]], [[1, 2, 3],[4, 5, 6]]])\n",
    "print(arr3D)\n",
    "print(\"----------------\")"
   ]
  },
  {
   "cell_type": "code",
   "execution_count": 19,
   "id": "d90c7957",
   "metadata": {},
   "outputs": [
    {
     "name": "stdout",
     "output_type": "stream",
     "text": [
      "0\n",
      "1\n",
      "2\n",
      "2\n",
      "3\n"
     ]
    }
   ],
   "source": [
    "print(arr0D.ndim)\n",
    "print(arr1D.ndim)\n",
    "print(arr2D.ndim)\n",
    "print(arr2D_1.ndim)\n",
    "print(arr3D.ndim)"
   ]
  },
  {
   "cell_type": "code",
   "execution_count": 30,
   "id": "74c9b063",
   "metadata": {},
   "outputs": [
    {
     "name": "stdout",
     "output_type": "stream",
     "text": [
      "[[[[[1 2 3]]]]]\n",
      "Numero de dimensões:  5\n"
     ]
    }
   ],
   "source": [
    "arr5D = np.array([1, 2, 3], ndmin=5)\n",
    "print(arr5D)\n",
    "print(\"Numero de dimensões: \", arr5D.ndim)"
   ]
  },
  {
   "cell_type": "markdown",
   "id": "bd8dc186",
   "metadata": {},
   "source": [
    "* 1 - 1D array creation functions\n",
    "\n",
    "The 1D array creation functions e.g. numpy.linspace and numpy.arange generally need at least two inputs, start and stop.\n",
    "* numpy.arange creates arrays with regularly incrementing values. \n",
    "Check the documentation for complete information and examples. "
   ]
  },
  {
   "cell_type": "code",
   "execution_count": 31,
   "id": "a8d80826",
   "metadata": {},
   "outputs": [
    {
     "data": {
      "text/plain": [
       "array([0, 1, 2, 3, 4, 5, 6, 7, 8, 9])"
      ]
     },
     "execution_count": 31,
     "metadata": {},
     "output_type": "execute_result"
    }
   ],
   "source": [
    "np.arange(10)"
   ]
  },
  {
   "cell_type": "code",
   "execution_count": 32,
   "id": "8cd06a95",
   "metadata": {},
   "outputs": [
    {
     "data": {
      "text/plain": [
       "array([ 2.,  3.,  4.,  5.,  6.,  7.,  8.,  9., 10., 11., 12., 13., 14.])"
      ]
     },
     "execution_count": 32,
     "metadata": {},
     "output_type": "execute_result"
    }
   ],
   "source": [
    "np.arange(2, 15, dtype=float)"
   ]
  },
  {
   "cell_type": "code",
   "execution_count": 33,
   "id": "d43eb20e",
   "metadata": {},
   "outputs": [
    {
     "data": {
      "text/plain": [
       "array([2. , 2.1, 2.2, 2.3, 2.4, 2.5, 2.6, 2.7, 2.8, 2.9])"
      ]
     },
     "execution_count": 33,
     "metadata": {},
     "output_type": "execute_result"
    }
   ],
   "source": [
    "np.arange(2, 3, 0.1)"
   ]
  },
  {
   "cell_type": "markdown",
   "id": "d32a7c05",
   "metadata": {},
   "source": [
    "numpy.linspace will create arrays with a specified number of elements, and spaced equally between the specified beginning and end values. For example:"
   ]
  },
  {
   "cell_type": "code",
   "execution_count": 34,
   "id": "72089450",
   "metadata": {},
   "outputs": [
    {
     "data": {
      "text/plain": [
       "array([1. , 1.6, 2.2, 2.8, 3.4, 4. ])"
      ]
     },
     "execution_count": 34,
     "metadata": {},
     "output_type": "execute_result"
    }
   ],
   "source": [
    "np.linspace(1., 4., 6)   # entre 1.0 e 4.0, 6 números igualmente espaçados"
   ]
  },
  {
   "cell_type": "markdown",
   "id": "a0c4bab9",
   "metadata": {},
   "source": [
    "* 2 - 2D array creation functions\n",
    "The 2D array creation functions e.g. numpy.eye, numpy.diag, and numpy.vander define properties of special matrices represented as 2D arrays."
   ]
  },
  {
   "cell_type": "code",
   "execution_count": 38,
   "id": "4bb3cd70",
   "metadata": {},
   "outputs": [
    {
     "data": {
      "text/plain": [
       "array([[1., 0., 0.],\n",
       "       [0., 1., 0.],\n",
       "       [0., 0., 1.]])"
      ]
     },
     "execution_count": 38,
     "metadata": {},
     "output_type": "execute_result"
    }
   ],
   "source": [
    "'''\n",
    "np.eye(n, m) defines a 2D identity matrix. The elements where i=j (row index and column index are equal) are 1 \n",
    "and the rest are 0, as such:\n",
    "'''\n",
    "np.eye(3)"
   ]
  },
  {
   "cell_type": "code",
   "execution_count": 39,
   "id": "d97644bd",
   "metadata": {},
   "outputs": [
    {
     "data": {
      "text/plain": [
       "array([[1., 0., 0., 0.],\n",
       "       [0., 1., 0., 0.],\n",
       "       [0., 0., 1., 0.],\n",
       "       [0., 0., 0., 1.]])"
      ]
     },
     "execution_count": 39,
     "metadata": {},
     "output_type": "execute_result"
    }
   ],
   "source": [
    "np.eye(4)"
   ]
  },
  {
   "cell_type": "code",
   "execution_count": 40,
   "id": "f87b2f8b",
   "metadata": {},
   "outputs": [
    {
     "data": {
      "text/plain": [
       "array([[1., 0., 0., 0., 0.],\n",
       "       [0., 1., 0., 0., 0.],\n",
       "       [0., 0., 1., 0., 0.]])"
      ]
     },
     "execution_count": 40,
     "metadata": {},
     "output_type": "execute_result"
    }
   ],
   "source": [
    "np.eye(3,5)"
   ]
  },
  {
   "cell_type": "code",
   "execution_count": 41,
   "id": "e4ef236c",
   "metadata": {},
   "outputs": [
    {
     "data": {
      "text/plain": [
       "array([[1, 0, 0],\n",
       "       [0, 2, 0],\n",
       "       [0, 0, 3]])"
      ]
     },
     "execution_count": 41,
     "metadata": {},
     "output_type": "execute_result"
    }
   ],
   "source": [
    "'''\n",
    "numpy.diag can define either a square 2D array with given values along the diagonal or if given a 2D array \n",
    "returns a 1D array that is only the diagonal elements. \n",
    "The two array creation functions can be helpful while doing linear algebra, as such:\n",
    "'''\n",
    "np.diag([1, 2, 3])"
   ]
  },
  {
   "cell_type": "code",
   "execution_count": 43,
   "id": "7779f998",
   "metadata": {},
   "outputs": [
    {
     "data": {
      "text/plain": [
       "array([[0, 1, 0, 0],\n",
       "       [0, 0, 2, 0],\n",
       "       [0, 0, 0, 3],\n",
       "       [0, 0, 0, 0]])"
      ]
     },
     "execution_count": 43,
     "metadata": {},
     "output_type": "execute_result"
    }
   ],
   "source": [
    "np.diag([1, 2, 3], 1)   # numpy.diag(v, k=0)"
   ]
  },
  {
   "cell_type": "code",
   "execution_count": 44,
   "id": "78041dd8",
   "metadata": {},
   "outputs": [
    {
     "data": {
      "text/plain": [
       "array([1, 4])"
      ]
     },
     "execution_count": 44,
     "metadata": {},
     "output_type": "execute_result"
    }
   ],
   "source": [
    "a = np.array([[1, 2],[3, 4]])\n",
    "np.diag(a)   # dá a diagonal de \"a\""
   ]
  },
  {
   "cell_type": "markdown",
   "id": "eb15cae4",
   "metadata": {},
   "source": [
    "* vander(x, n) \n",
    "defines a Vandermonde matrix as a 2D NumPy array. Each column of the Vandermonde matrix is a decreasing power of the input 1D array or list or tuple, x where the highest polynomial order is n-1. This array creation routine is helpful in generating linear least squares models, as such:"
   ]
  },
  {
   "cell_type": "code",
   "execution_count": 45,
   "id": "98568441",
   "metadata": {},
   "outputs": [
    {
     "data": {
      "text/plain": [
       "array([[0. , 1. ],\n",
       "       [0.5, 1. ],\n",
       "       [1. , 1. ],\n",
       "       [1.5, 1. ],\n",
       "       [2. , 1. ]])"
      ]
     },
     "execution_count": 45,
     "metadata": {},
     "output_type": "execute_result"
    }
   ],
   "source": [
    "np.vander(np.linspace(0, 2, 5), 2)  # (x, n-1)"
   ]
  },
  {
   "cell_type": "code",
   "execution_count": 47,
   "id": "9553c9f9",
   "metadata": {},
   "outputs": [
    {
     "data": {
      "text/plain": [
       "array([[1, 1],\n",
       "       [2, 1],\n",
       "       [3, 1],\n",
       "       [4, 1]])"
      ]
     },
     "execution_count": 47,
     "metadata": {},
     "output_type": "execute_result"
    }
   ],
   "source": [
    "np.vander([1, 2, 3, 4], 2)  #(x, n-1)"
   ]
  },
  {
   "cell_type": "code",
   "execution_count": 48,
   "id": "6b528be1",
   "metadata": {},
   "outputs": [
    {
     "data": {
      "text/plain": [
       "array([[ 1,  1,  1,  1],\n",
       "       [ 8,  4,  2,  1],\n",
       "       [27,  9,  3,  1],\n",
       "       [64, 16,  4,  1]])"
      ]
     },
     "execution_count": 48,
     "metadata": {},
     "output_type": "execute_result"
    }
   ],
   "source": [
    "np.vander([1, 2, 3, 4], 4) #(x, n-1)"
   ]
  },
  {
   "cell_type": "markdown",
   "id": "286785c4",
   "metadata": {},
   "source": [
    "# 3 - general ndarray creation functions\n"
   ]
  },
  {
   "cell_type": "code",
   "execution_count": 51,
   "id": "b163ece1",
   "metadata": {},
   "outputs": [
    {
     "data": {
      "text/plain": [
       "array([[0., 0., 0.],\n",
       "       [0., 0., 0.]])"
      ]
     },
     "execution_count": 51,
     "metadata": {},
     "output_type": "execute_result"
    }
   ],
   "source": [
    "# numpy.zeros will create an array filled with 0 values with the specified shape. The default dtype is float64\n",
    "#numpy.zeros(shape, dtype=float, order='C', *, like=None)\n",
    "np.zeros((2, 3))"
   ]
  },
  {
   "cell_type": "code",
   "execution_count": 52,
   "id": "d433278a",
   "metadata": {},
   "outputs": [
    {
     "data": {
      "text/plain": [
       "array([[[0., 0.],\n",
       "        [0., 0.],\n",
       "        [0., 0.]],\n",
       "\n",
       "       [[0., 0.],\n",
       "        [0., 0.],\n",
       "        [0., 0.]]])"
      ]
     },
     "execution_count": 52,
     "metadata": {},
     "output_type": "execute_result"
    }
   ],
   "source": [
    "np.zeros((2, 3, 2))"
   ]
  },
  {
   "cell_type": "code",
   "execution_count": 56,
   "id": "a0184baf",
   "metadata": {},
   "outputs": [
    {
     "data": {
      "text/plain": [
       "array([[1, 1, 1],\n",
       "       [1, 1, 1]], dtype=object)"
      ]
     },
     "execution_count": 56,
     "metadata": {},
     "output_type": "execute_result"
    }
   ],
   "source": [
    "# numpy.ones will create an array filled with 1 values. It is identical to zeros in all other respects as such:\n",
    "#numpy.ones(shape, dtype=None, order='C', *, like=None)\n",
    "np.ones((2, 3), dtype=object) # object é string"
   ]
  },
  {
   "cell_type": "code",
   "execution_count": 62,
   "id": "4c05ad11",
   "metadata": {},
   "outputs": [
    {
     "data": {
      "text/plain": [
       "array([[0.95445675, 0.84354188, 0.30481432],\n",
       "       [0.89006721, 0.30445305, 0.83974102]])"
      ]
     },
     "execution_count": 62,
     "metadata": {},
     "output_type": "execute_result"
    }
   ],
   "source": [
    "# The random method of the result of default_rng will create an array filled with random values between 0 and 1\n",
    "from numpy.random import default_rng\n",
    "default_rng().random((2, 3))"
   ]
  },
  {
   "cell_type": "code",
   "execution_count": 66,
   "id": "1c36584e",
   "metadata": {},
   "outputs": [
    {
     "name": "stdout",
     "output_type": "stream",
     "text": [
      "[[[0 0 0]\n",
      "  [1 1 1]\n",
      "  [2 2 2]]\n",
      "\n",
      " [[0 1 2]\n",
      "  [0 1 2]\n",
      "  [0 1 2]]]\n"
     ]
    },
    {
     "data": {
      "text/plain": [
       "3"
      ]
     },
     "execution_count": 66,
     "metadata": {},
     "output_type": "execute_result"
    }
   ],
   "source": [
    "'''\n",
    "numpy.indices will create a set of arrays (stacked as a one-higher dimensioned array), \n",
    "one per dimension with each representing variation in that dimension:\n",
    "'''\n",
    "b = np.indices((3, 3))\n",
    "print(b)\n",
    "b.ndim"
   ]
  },
  {
   "cell_type": "markdown",
   "id": "d5560e79",
   "metadata": {},
   "source": [
    "# Replicating, joining, or mutating existing arrays"
   ]
  },
  {
   "cell_type": "markdown",
   "id": "cc8ebeae",
   "metadata": {},
   "source": [
    "Once you have created arrays, you can replicate, join, or mutate those existing arrays to create new arrays. When you assign an array or its elements to a new variable, you have to explicitly numpy.copy the array, otherwise the variable is a view into the original array.\n",
    "\n",
    "Pra mais informações. https://numpy.org/doc/stable/user/quickstart.html#quickstart-copies-and-views"
   ]
  },
  {
   "cell_type": "code",
   "execution_count": 74,
   "id": "2cff08fa",
   "metadata": {},
   "outputs": [
    {
     "name": "stdout",
     "output_type": "stream",
     "text": [
      "a =  [1 2 3 4 5] b =  [2 3]\n",
      "False\n",
      "1397991467216\n",
      "1397991387952\n"
     ]
    }
   ],
   "source": [
    "a = np.array([1, 2, 3, 4, 5])\n",
    "b = a[:2].copy()\n",
    "b += 1\n",
    "print(\"a = \", a, \"b = \", b)\n",
    "print(b is a)\n",
    "print(id(a))\n",
    "print(id(b))"
   ]
  },
  {
   "cell_type": "code",
   "execution_count": null,
   "id": "282888b4",
   "metadata": {},
   "outputs": [],
   "source": []
  }
 ],
 "metadata": {
  "kernelspec": {
   "display_name": "Python 3 (ipykernel)",
   "language": "python",
   "name": "python3"
  },
  "language_info": {
   "codemirror_mode": {
    "name": "ipython",
    "version": 3
   },
   "file_extension": ".py",
   "mimetype": "text/x-python",
   "name": "python",
   "nbconvert_exporter": "python",
   "pygments_lexer": "ipython3",
   "version": "3.9.12"
  }
 },
 "nbformat": 4,
 "nbformat_minor": 5
}
