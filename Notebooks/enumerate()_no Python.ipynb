{
 "cells": [
  {
   "cell_type": "markdown",
   "id": "2baeffc0-c9aa-41e1-a08a-ec47f073e485",
   "metadata": {},
   "source": [
    "# enumerate()  no Python"
   ]
  },
  {
   "cell_type": "markdown",
   "id": "4d397005-3f08-4173-ae31-c221f50af5d7",
   "metadata": {},
   "source": [
    "- Usamos quando queremos pegar o índice de um item ao mesmo tempo que queremos o valor do item."
   ]
  },
  {
   "cell_type": "code",
   "execution_count": 3,
   "id": "3278a8e9-43db-48ed-b817-2298e39a97bc",
   "metadata": {},
   "outputs": [],
   "source": [
    "vendedores = [\"Marcus\", \"Amanda\", \"Ale\", \"Carol\"]\n",
    "vendas = [15, 20, 10, 30]"
   ]
  },
  {
   "cell_type": "code",
   "execution_count": 5,
   "id": "df4a9cd7-3d28-4a4a-ba58-f8f96542d4db",
   "metadata": {},
   "outputs": [
    {
     "name": "stdout",
     "output_type": "stream",
     "text": [
      "Vendedor 1: Marcus - 15 produtos\n",
      "{'Marcus': 15}\n",
      "Vendedor 2: Amanda - 20 produtos\n",
      "{'Marcus': 15, 'Amanda': 20}\n",
      "Vendedor 3: Ale - 10 produtos\n",
      "{'Marcus': 15, 'Amanda': 20, 'Ale': 10}\n",
      "Vendedor 4: Carol - 30 produtos\n",
      "{'Marcus': 15, 'Amanda': 20, 'Ale': 10, 'Carol': 30}\n"
     ]
    }
   ],
   "source": [
    "# Queremos uma mensagem com o formato abaixo.\n",
    "# Vendedor 1: Marcus - 15 produtos\n",
    "dic={}\n",
    "for index, value in enumerate(vendedores):\n",
    "    print(f\"Vendedor {index+1}: {value} - {vendas[index]} produtos\")\n",
    "    # extra! adicionando valores em um dicionário\n",
    "    dic[value] = vendas[index]\n",
    "    print(dic)"
   ]
  },
  {
   "cell_type": "code",
   "execution_count": null,
   "id": "fe813b14-12e4-47f6-9b61-23195f5ca02f",
   "metadata": {},
   "outputs": [],
   "source": []
  }
 ],
 "metadata": {
  "kernelspec": {
   "display_name": "Python 3 (ipykernel)",
   "language": "python",
   "name": "python3"
  },
  "language_info": {
   "codemirror_mode": {
    "name": "ipython",
    "version": 3
   },
   "file_extension": ".py",
   "mimetype": "text/x-python",
   "name": "python",
   "nbconvert_exporter": "python",
   "pygments_lexer": "ipython3",
   "version": "3.9.13"
  }
 },
 "nbformat": 4,
 "nbformat_minor": 5
}
