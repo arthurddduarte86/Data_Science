{
 "cells": [
  {
   "cell_type": "markdown",
   "id": "15b71bb0",
   "metadata": {},
   "source": [
    "# F-strings em Python"
   ]
  },
  {
   "cell_type": "markdown",
   "id": "67ed4e53",
   "metadata": {},
   "source": [
    "Variáveis em texto"
   ]
  },
  {
   "cell_type": "code",
   "execution_count": 5,
   "id": "ecf60bb5",
   "metadata": {},
   "outputs": [
    {
     "name": "stdout",
     "output_type": "stream",
     "text": [
      "O faturamento foi de 1000\n",
      "O faturamento foi: 1000\n"
     ]
    }
   ],
   "source": [
    "faturamento = 1000\n",
    "\n",
    "print(\"O faturamento foi de {}\".format(faturamento)) #jeito convencional não usando o F-string\n",
    "print(f\"O faturamento foi: {faturamento}\")"
   ]
  },
  {
   "cell_type": "code",
   "execution_count": 6,
   "id": "bff2a546",
   "metadata": {},
   "outputs": [],
   "source": [
    "nome_arquivo = \"vendas.txt\""
   ]
  },
  {
   "cell_type": "code",
   "execution_count": 14,
   "id": "ccbc9ff5",
   "metadata": {},
   "outputs": [
    {
     "name": "stdout",
     "output_type": "stream",
     "text": [
      "Produto,Quantidade,Valor\n",
      "iphone,2,12000\n",
      "macbook,1,15000\n",
      "airpod,5,10000\n"
     ]
    }
   ],
   "source": [
    "caminho = r'link do caminho para o arquivo'   # r  antes da string, é uma raw string, uma string pura\n",
    "arquivo = open(f\"{caminho}/{nome_arquivo}\", \"r\")\n",
    "print(arquivo.read())\n",
    "arquivo.close()"
   ]
  },
  {
   "cell_type": "markdown",
   "id": "109c04b2",
   "metadata": {},
   "source": [
    "Formatando com casa decimal"
   ]
  },
  {
   "cell_type": "code",
   "execution_count": 17,
   "id": "3748c6f0",
   "metadata": {},
   "outputs": [
    {
     "name": "stdout",
     "output_type": "stream",
     "text": [
      "Faturamento: 1000.00\n"
     ]
    }
   ],
   "source": [
    "print(f\"Faturamento: {faturamento:.2f}\")"
   ]
  },
  {
   "cell_type": "code",
   "execution_count": null,
   "id": "67c1705a",
   "metadata": {},
   "outputs": [],
   "source": []
  },
  {
   "cell_type": "markdown",
   "id": "f31f0822",
   "metadata": {},
   "source": [
    "Formato moeda"
   ]
  },
  {
   "cell_type": "code",
   "execution_count": 21,
   "id": "7c107bf3",
   "metadata": {},
   "outputs": [
    {
     "name": "stdout",
     "output_type": "stream",
     "text": [
      "Faturamento: R$1,000.00\n"
     ]
    }
   ],
   "source": [
    "print(f\"Faturamento: R${faturamento:,.2f}\")"
   ]
  },
  {
   "cell_type": "code",
   "execution_count": null,
   "id": "42f07252",
   "metadata": {},
   "outputs": [],
   "source": []
  },
  {
   "cell_type": "markdown",
   "id": "0201c27c",
   "metadata": {},
   "source": [
    "Número fixo de digitos"
   ]
  },
  {
   "cell_type": "code",
   "execution_count": 22,
   "id": "366d785c",
   "metadata": {},
   "outputs": [
    {
     "name": "stdout",
     "output_type": "stream",
     "text": [
      "CPF: 01206406299\n"
     ]
    }
   ],
   "source": [
    "#cpf = 01206406299 # Python não aceita o numero começar com 0\n",
    "cpf = 1206406299\n",
    "print(f\"CPF: {cpf:011}\") # formata o cpf para ter 11 digitos e preencher o digito ausente com 0"
   ]
  },
  {
   "cell_type": "markdown",
   "id": "996ce941",
   "metadata": {},
   "source": [
    "Percentual"
   ]
  },
  {
   "cell_type": "code",
   "execution_count": 25,
   "id": "e15489fc",
   "metadata": {},
   "outputs": [
    {
     "name": "stdout",
     "output_type": "stream",
     "text": [
      "Margem: 27.00%\n"
     ]
    }
   ],
   "source": [
    "margem_lucro = 0.27\n",
    "print(f\"Margem: {margem_lucro:.2%}\")"
   ]
  },
  {
   "cell_type": "markdown",
   "id": "5cb33e49",
   "metadata": {},
   "source": [
    "Datas"
   ]
  },
  {
   "cell_type": "code",
   "execution_count": 28,
   "id": "29494121",
   "metadata": {},
   "outputs": [
    {
     "name": "stdout",
     "output_type": "stream",
     "text": [
      "Data de hoje: 11/10/2022, Horário: 04:28\n"
     ]
    }
   ],
   "source": [
    "from datetime import datetime\n",
    "hoje = datetime.now()\n",
    "print(f\"Data de hoje: {hoje:%d/%m/%Y}, Horário: {hoje:%H:%M}\")"
   ]
  },
  {
   "cell_type": "markdown",
   "id": "85ef2e55",
   "metadata": {},
   "source": [
    "Só cuidado com textos com chaves {}"
   ]
  },
  {
   "cell_type": "code",
   "execution_count": 33,
   "id": "e144a89a",
   "metadata": {},
   "outputs": [
    {
     "name": "stdout",
     "output_type": "stream",
     "text": [
      "{Produto: iphone}\n"
     ]
    }
   ],
   "source": [
    "produto = 'iphone'\n",
    "print(f\"{{Produto: {produto}}}\") # resulta em um dicionário"
   ]
  },
  {
   "cell_type": "markdown",
   "id": "79789d57",
   "metadata": {},
   "source": [
    "Corpo do E-mail"
   ]
  },
  {
   "cell_type": "code",
   "execution_count": 37,
   "id": "630d347d",
   "metadata": {},
   "outputs": [
    {
     "name": "stdout",
     "output_type": "stream",
     "text": [
      "\n",
      "Bom dia, diretoria\n",
      "Faturamento: 1000\n",
      "Margem de Lucro: 0.27\n",
      "Data: 2022-10-11 04:28:31.861837\n"
     ]
    }
   ],
   "source": [
    "texto = f\"\"\"\n",
    "Bom dia, diretoria\n",
    "Faturamento: {faturamento}\n",
    "Margem de Lucro: {margem_lucro}\n",
    "Data: {hoje}\"\"\"\n",
    "print(texto)"
   ]
  }
 ],
 "metadata": {
  "kernelspec": {
   "display_name": "Python 3 (ipykernel)",
   "language": "python",
   "name": "python3"
  },
  "language_info": {
   "codemirror_mode": {
    "name": "ipython",
    "version": 3
   },
   "file_extension": ".py",
   "mimetype": "text/x-python",
   "name": "python",
   "nbconvert_exporter": "python",
   "pygments_lexer": "ipython3",
   "version": "3.9.13"
  }
 },
 "nbformat": 4,
 "nbformat_minor": 5
}
